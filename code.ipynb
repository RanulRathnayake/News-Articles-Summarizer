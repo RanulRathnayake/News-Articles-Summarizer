{
 "cells": [
  {
   "cell_type": "markdown",
   "metadata": {},
   "source": []
  },
  {
   "cell_type": "code",
   "execution_count": 22,
   "metadata": {},
   "outputs": [
    {
     "name": "stdout",
     "output_type": "stream",
     "text": [
      "Requirement already satisfied: newspaper3k in d:\\ai projects\\news-articles-summarizer-\\.venv\\lib\\site-packages (0.2.8)\n",
      "Requirement already satisfied: beautifulsoup4>=4.4.1 in d:\\ai projects\\news-articles-summarizer-\\.venv\\lib\\site-packages (from newspaper3k) (4.12.3)\n",
      "Requirement already satisfied: Pillow>=3.3.0 in d:\\ai projects\\news-articles-summarizer-\\.venv\\lib\\site-packages (from newspaper3k) (10.3.0)\n",
      "Requirement already satisfied: PyYAML>=3.11 in d:\\ai projects\\news-articles-summarizer-\\.venv\\lib\\site-packages (from newspaper3k) (6.0.1)\n",
      "Requirement already satisfied: cssselect>=0.9.2 in d:\\ai projects\\news-articles-summarizer-\\.venv\\lib\\site-packages (from newspaper3k) (1.2.0)\n",
      "Requirement already satisfied: lxml>=3.6.0 in d:\\ai projects\\news-articles-summarizer-\\.venv\\lib\\site-packages (from newspaper3k) (5.2.2)\n",
      "Requirement already satisfied: nltk>=3.2.1 in d:\\ai projects\\news-articles-summarizer-\\.venv\\lib\\site-packages (from newspaper3k) (3.8.1)\n",
      "Requirement already satisfied: requests>=2.10.0 in d:\\ai projects\\news-articles-summarizer-\\.venv\\lib\\site-packages (from newspaper3k) (2.32.3)\n",
      "Requirement already satisfied: feedparser>=5.2.1 in d:\\ai projects\\news-articles-summarizer-\\.venv\\lib\\site-packages (from newspaper3k) (6.0.11)\n",
      "Requirement already satisfied: tldextract>=2.0.1 in d:\\ai projects\\news-articles-summarizer-\\.venv\\lib\\site-packages (from newspaper3k) (5.1.2)\n",
      "Requirement already satisfied: feedfinder2>=0.0.4 in d:\\ai projects\\news-articles-summarizer-\\.venv\\lib\\site-packages (from newspaper3k) (0.0.4)\n",
      "Requirement already satisfied: jieba3k>=0.35.1 in d:\\ai projects\\news-articles-summarizer-\\.venv\\lib\\site-packages (from newspaper3k) (0.35.1)\n",
      "Requirement already satisfied: python-dateutil>=2.5.3 in d:\\ai projects\\news-articles-summarizer-\\.venv\\lib\\site-packages (from newspaper3k) (2.9.0.post0)\n",
      "Requirement already satisfied: tinysegmenter==0.3 in d:\\ai projects\\news-articles-summarizer-\\.venv\\lib\\site-packages (from newspaper3k) (0.3)\n",
      "Requirement already satisfied: soupsieve>1.2 in d:\\ai projects\\news-articles-summarizer-\\.venv\\lib\\site-packages (from beautifulsoup4>=4.4.1->newspaper3k) (2.5)\n",
      "Requirement already satisfied: six in d:\\ai projects\\news-articles-summarizer-\\.venv\\lib\\site-packages (from feedfinder2>=0.0.4->newspaper3k) (1.16.0)\n",
      "Requirement already satisfied: sgmllib3k in d:\\ai projects\\news-articles-summarizer-\\.venv\\lib\\site-packages (from feedparser>=5.2.1->newspaper3k) (1.0.0)\n",
      "Requirement already satisfied: click in d:\\ai projects\\news-articles-summarizer-\\.venv\\lib\\site-packages (from nltk>=3.2.1->newspaper3k) (8.1.7)\n",
      "Requirement already satisfied: joblib in d:\\ai projects\\news-articles-summarizer-\\.venv\\lib\\site-packages (from nltk>=3.2.1->newspaper3k) (1.4.2)\n",
      "Requirement already satisfied: regex>=2021.8.3 in d:\\ai projects\\news-articles-summarizer-\\.venv\\lib\\site-packages (from nltk>=3.2.1->newspaper3k) (2024.5.15)\n",
      "Requirement already satisfied: tqdm in d:\\ai projects\\news-articles-summarizer-\\.venv\\lib\\site-packages (from nltk>=3.2.1->newspaper3k) (4.66.4)\n",
      "Requirement already satisfied: charset-normalizer<4,>=2 in d:\\ai projects\\news-articles-summarizer-\\.venv\\lib\\site-packages (from requests>=2.10.0->newspaper3k) (3.3.2)\n",
      "Requirement already satisfied: idna<4,>=2.5 in d:\\ai projects\\news-articles-summarizer-\\.venv\\lib\\site-packages (from requests>=2.10.0->newspaper3k) (3.7)\n",
      "Requirement already satisfied: urllib3<3,>=1.21.1 in d:\\ai projects\\news-articles-summarizer-\\.venv\\lib\\site-packages (from requests>=2.10.0->newspaper3k) (2.2.1)\n",
      "Requirement already satisfied: certifi>=2017.4.17 in d:\\ai projects\\news-articles-summarizer-\\.venv\\lib\\site-packages (from requests>=2.10.0->newspaper3k) (2024.6.2)\n",
      "Requirement already satisfied: requests-file>=1.4 in d:\\ai projects\\news-articles-summarizer-\\.venv\\lib\\site-packages (from tldextract>=2.0.1->newspaper3k) (2.1.0)\n",
      "Requirement already satisfied: filelock>=3.0.8 in d:\\ai projects\\news-articles-summarizer-\\.venv\\lib\\site-packages (from tldextract>=2.0.1->newspaper3k) (3.15.1)\n",
      "Requirement already satisfied: colorama in d:\\ai projects\\news-articles-summarizer-\\.venv\\lib\\site-packages (from click->nltk>=3.2.1->newspaper3k) (0.4.6)\n",
      "Requirement already satisfied: textblob in d:\\ai projects\\news-articles-summarizer-\\.venv\\lib\\site-packages (0.18.0.post0)\n",
      "Requirement already satisfied: nltk>=3.8 in d:\\ai projects\\news-articles-summarizer-\\.venv\\lib\\site-packages (from textblob) (3.8.1)\n",
      "Requirement already satisfied: click in d:\\ai projects\\news-articles-summarizer-\\.venv\\lib\\site-packages (from nltk>=3.8->textblob) (8.1.7)\n",
      "Requirement already satisfied: joblib in d:\\ai projects\\news-articles-summarizer-\\.venv\\lib\\site-packages (from nltk>=3.8->textblob) (1.4.2)\n",
      "Requirement already satisfied: regex>=2021.8.3 in d:\\ai projects\\news-articles-summarizer-\\.venv\\lib\\site-packages (from nltk>=3.8->textblob) (2024.5.15)\n",
      "Requirement already satisfied: tqdm in d:\\ai projects\\news-articles-summarizer-\\.venv\\lib\\site-packages (from nltk>=3.8->textblob) (4.66.4)\n",
      "Requirement already satisfied: colorama in d:\\ai projects\\news-articles-summarizer-\\.venv\\lib\\site-packages (from click->nltk>=3.8->textblob) (0.4.6)\n",
      "Requirement already satisfied: nltk in d:\\ai projects\\news-articles-summarizer-\\.venv\\lib\\site-packages (3.8.1)\n",
      "Requirement already satisfied: click in d:\\ai projects\\news-articles-summarizer-\\.venv\\lib\\site-packages (from nltk) (8.1.7)\n",
      "Requirement already satisfied: joblib in d:\\ai projects\\news-articles-summarizer-\\.venv\\lib\\site-packages (from nltk) (1.4.2)\n",
      "Requirement already satisfied: regex>=2021.8.3 in d:\\ai projects\\news-articles-summarizer-\\.venv\\lib\\site-packages (from nltk) (2024.5.15)\n",
      "Requirement already satisfied: tqdm in d:\\ai projects\\news-articles-summarizer-\\.venv\\lib\\site-packages (from nltk) (4.66.4)\n",
      "Requirement already satisfied: colorama in d:\\ai projects\\news-articles-summarizer-\\.venv\\lib\\site-packages (from click->nltk) (0.4.6)\n",
      "Requirement already satisfied: lxml[html_clean] in d:\\ai projects\\news-articles-summarizer-\\.venv\\lib\\site-packages (5.2.2)\n",
      "Requirement already satisfied: lxml-html-clean in d:\\ai projects\\news-articles-summarizer-\\.venv\\lib\\site-packages (from lxml[html_clean]) (0.1.1)\n"
     ]
    },
    {
     "name": "stderr",
     "output_type": "stream",
     "text": [
      "WARNING: lxml 5.2.2 does not provide the extra 'html-clean'\n",
      "ERROR: Could not find a version that satisfies the requirement python3-tkinter (from versions: none)\n",
      "ERROR: No matching distribution found for python3-tkinter\n"
     ]
    }
   ],
   "source": [
    "!pip install newspaper3k\n",
    "!pip install textblob\n",
    "!pip install nltk\n",
    "!pip install lxml[html_clean]\n",
    "!pip install python3-tkinter\n",
    "\n"
   ]
  },
  {
   "cell_type": "code",
   "execution_count": 23,
   "metadata": {},
   "outputs": [
    {
     "name": "stderr",
     "output_type": "stream",
     "text": [
      "[nltk_data] Downloading package punkt to\n",
      "[nltk_data]     C:\\Users\\ranul\\AppData\\Roaming\\nltk_data...\n",
      "[nltk_data]   Package punkt is already up-to-date!\n"
     ]
    },
    {
     "name": "stdout",
     "output_type": "stream",
     "text": [
      "Title: Former Atlanta prosecutor says he expects Trump will be tried in Georgia even if he wins the White House\n",
      "Authors: ['Kaitlan Collins', 'Zachary Cohen', 'Jason Morris']\n",
      "Publication Date: 2024-06-12 00:00:00\n",
      "Summary: CNN —Former special prosecutor Nathan Wade says he believes Donald Trump will “absolutely” be put on trial in Georgia in the 2020 election subversion case – even if he wins a second term and he’s in the White House at the time.\n",
      "The question of whether a sitting US president can be forced to stand trial for state-level criminal charges has never been litigated.\n",
      "Wade said in the interview Wednesday that he expects prosecutors and defense attorneys will have to confront that unprecedented scenario if Trump wins the 2024 election.\n",
      "Nathan Wade was asked if he thinks Trump can still be on trial as president.\n",
      "Trial court Judge Scott McAfee had previously ruled that Willis could remain on the case if Wade stepped away, prompting his resignation.\n"
     ]
    }
   ],
   "source": [
    "import tkinter as tk\n",
    "import nltk\n",
    "from textblob import TextBlob\n",
    "from newspaper import Article\n",
    "\n",
    "nltk.download('punkt')\n",
    "\n",
    "url = 'https://edition.cnn.com/2024/06/12/politics/nathan-wade-trump-interview-the-source-cnntv/index.html'\n",
    "\n",
    "article = Article(url)\n",
    "\n",
    "article.download()\n",
    "article.parse()\n",
    "\n",
    "article.nlp()\n",
    "\n",
    "print(f'Title: {article.title}')\n",
    "print(f'Authors: {article.authors}')\n",
    "print(f'Publication Date: {article.publish_date}')\n",
    "print(f'Summary: {article.summary}')\n"
   ]
  },
  {
   "cell_type": "code",
   "execution_count": 24,
   "metadata": {},
   "outputs": [
    {
     "name": "stdout",
     "output_type": "stream",
     "text": [
      "0.03986742424242427\n",
      "Sentiment: Positive\n"
     ]
    }
   ],
   "source": [
    "analysis = TextBlob(article.text)\n",
    "print(analysis.polarity)\n",
    "print(f'Sentiment: {\"Positive\" if analysis.polarity > 0 else \"Negative\" if analysis.polarity < 0 else \"Neutral\"}')"
   ]
  },
  {
   "cell_type": "code",
   "execution_count": 25,
   "metadata": {},
   "outputs": [],
   "source": [
    "def summarize():\n",
    "    url = utext.get('1.0', \"end\").strip()\n",
    "\n",
    "    article = Article(url)\n",
    "    article.download()\n",
    "    article.parse()\n",
    "    article.nlp()\n",
    "\n",
    "    title.config(state='normal')\n",
    "    author.config(state='normal')\n",
    "    publication.config(state='normal')\n",
    "    summary.config(state='normal')\n",
    "    sentiment.config(state='normal')\n",
    "\n",
    "    title.delete('1.0', 'end')\n",
    "    title.insert('1.0', article.title)\n",
    "\n",
    "    author.delete('1.0', 'end')\n",
    "    author.insert('1.0', article.authors)\n",
    "\n",
    "    publication.delete('1.0', 'end')\n",
    "    publication.insert('1.0', article.publish_date)\n",
    "\n",
    "    summary.delete('1.0', 'end')\n",
    "    summary.insert('1.0', article.summary)\n",
    "\n",
    "    analysis = TextBlob(article.text)\n",
    "    sentiment.delete('1.0', 'end')\n",
    "    sentiment.insert('1.0', f'Polarity: {analysis.polarity}, Sentiment: {\"positive\" if analysis.polarity > 0 else \"negative\" if analysis.polarity < 0 else \"neutral\"}')\n",
    "\n",
    "    title.config(state='disabled')\n",
    "    author.config(state='disabled')\n",
    "    publication.config(state='disabled')\n",
    "    summary.config(state='disabled')"
   ]
  },
  {
   "cell_type": "code",
   "execution_count": 26,
   "metadata": {},
   "outputs": [],
   "source": [
    "root = tk.Tk()\n",
    "root.title(\"News Articles Summarizer\")\n",
    "root.geometry('1200x600')\n",
    "\n",
    "tlable = tk.Label(root, text=\"Title\")\n",
    "tlable.pack()\n",
    "\n",
    "title = tk.Text(root, height=1, width=140)\n",
    "title.config(state='disabled', bg='#dddddd')\n",
    "title.pack()\n",
    "\n",
    "alable = tk.Label(root, text=\"Authors\")\n",
    "alable.pack()\n",
    "\n",
    "author = tk.Text(root, height=1, width=140)\n",
    "author.config(state='disabled', bg='#dddddd')\n",
    "author.pack()\n",
    "\n",
    "plable = tk.Label(root, text=\"Publication Date\")\n",
    "plable.pack()\n",
    "\n",
    "publication = tk.Text(root, height=1, width=140)\n",
    "publication.config(state='disabled', bg='#dddddd')\n",
    "publication.pack()\n",
    "\n",
    "slable = tk.Label(root, text=\"Summary\")\n",
    "slable.pack()\n",
    "\n",
    "summary = tk.Text(root, height=20, width=140)\n",
    "summary.config(state='disabled', bg='#dddddd')\n",
    "summary.pack()\n",
    "\n",
    "sentlable = tk.Label(root, text=\"Sentiment\")\n",
    "sentlable.pack()\n",
    "\n",
    "sentiment = tk.Text(root, height=1, width=140)\n",
    "sentiment.config(state='disabled', bg='#dddddd')\n",
    "sentiment.pack()\n",
    "\n",
    "ulable = tk.Label(root, text=\"URL\")\n",
    "ulable.pack()\n",
    "\n",
    "utext = tk.Text(root, height=1, width=140)\n",
    "utext.pack()\n",
    "\n",
    "btn = tk.Button(root, text=\"Summarize\", command=summarize)\n",
    "btn.pack()\n",
    "\n",
    "def stop_application():\n",
    "    root.destroy()\n",
    "\n",
    "root.after(600000, stop_application)\n",
    "\n",
    "root.mainloop()"
   ]
  }
 ],
 "metadata": {
  "kernelspec": {
   "display_name": ".venv",
   "language": "python",
   "name": "python3"
  },
  "language_info": {
   "codemirror_mode": {
    "name": "ipython",
    "version": 3
   },
   "file_extension": ".py",
   "mimetype": "text/x-python",
   "name": "python",
   "nbconvert_exporter": "python",
   "pygments_lexer": "ipython3",
   "version": "3.10.0"
  }
 },
 "nbformat": 4,
 "nbformat_minor": 2
}
